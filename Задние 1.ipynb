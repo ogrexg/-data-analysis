{
 "cells": [
  {
   "cell_type": "code",
   "execution_count": null,
   "id": "1bcc60ea-9e96-4e17-a7b3-a899418352ba",
   "metadata": {},
   "outputs": [],
   "source": [
    "# Импорт необходимых библиотек\n",
    "import pandas as pd\n",
    "import numpy as np\n",
    "from sklearn.model_selection import train_test_split\n",
    "from sklearn.preprocessing import LabelEncoder\n",
    "from sklearn.linear_model import LinearRegression, Ridge\n",
    "from sklearn.ensemble import RandomForestRegressor\n",
    "from sklearn.metrics import mean_squared_error, r2_score\n",
    "import matplotlib.pyplot as plt\n",
    "import seaborn as sns\n",
    "from datetime import datetime\n",
    "\n",
    "# Загрузка данных\n",
    "data = pd.read_csv('flight_delay.csv')\n",
    "\n",
    "# Предварительный анализ данных\n",
    "print(data.head())\n",
    "print(data.info())\n",
    "print(data.describe())\n",
    "\n",
    "\n",
    "departureAirportColumn = data.columns[0]\n",
    "destinationAirportColumn = data.columns[2]\n",
    "scheduledDepartureTimeColumn = data.columns[1]\n",
    "scheduledArrivalTimeColumn = data.columns[3]\n",
    "delayColumn=data.columns[4]"
   ]
  },
  {
   "cell_type": "code",
   "execution_count": 3,
   "id": "055facf1-638f-4c94-8ba0-5e588c55fe4e",
   "metadata": {},
   "outputs": [
    {
     "name": "stdout",
     "output_type": "stream",
     "text": [
      "Index(['Depature Airport', 'Scheduled depature time', 'Destination Airport',\n",
      "       'Scheduled arrival time', 'Delay', 'Year', 'Month', 'Day',\n",
      "       'Day of week'],\n",
      "      dtype='object')\n"
     ]
    }
   ],
   "source": [
    "# Обработка строковых данных\n",
    "le = LabelEncoder()\n",
    "data[departureAirportColumn] = le.fit_transform(data[departureAirportColumn])\n",
    "data[destinationAirportColumn] = le.fit_transform(data[destinationAirportColumn])\n",
    "\n",
    "# Преобразование временных меток в datetime\n",
    "data[scheduledDepartureTimeColumn] = pd.to_datetime(data[scheduledDepartureTimeColumn])\n",
    "data[scheduledArrivalTimeColumn] = pd.to_datetime(data[scheduledArrivalTimeColumn])\n",
    "\n",
    "# Извлечение признаков из временных меток\n",
    "data['Year'] = data[scheduledDepartureTimeColumn].dt.year\n",
    "data['Month'] = data[scheduledDepartureTimeColumn].dt.month\n",
    "data['Day'] = data[scheduledDepartureTimeColumn].dt.day\n",
    "data['Day of week'] = data[scheduledDepartureTimeColumn].dt.dayofweek\n",
    "\n",
    "print(data.columns)"
   ]
  },
  {
   "cell_type": "code",
   "execution_count": 4,
   "id": "2a54cfcc-01f2-42ad-8339-4f2e8b8dab2f",
   "metadata": {},
   "outputs": [],
   "source": [
    "# Рассчет продолжительности полета\n",
    "data['Flight duration'] = (data[scheduledArrivalTimeColumn] - data[scheduledDepartureTimeColumn]).dt.total_seconds() / 60\n",
    "\n",
    "# Разделение данных на обучающую и тестовую выборки\n",
    "train_data = data[data['Year'] < 2018]\n",
    "test_data = data[data['Year'] == 2018]\n",
    "\n",
    "X_train = train_data[[departureAirportColumn, destinationAirportColumn, 'Month', 'Day', 'Day of week', 'Flight duration']]\n",
    "y_train = train_data['Delay']\n",
    "X_test = test_data[[departureAirportColumn, destinationAirportColumn, 'Month', 'Day', 'Day of week', 'Flight duration']]\n",
    "y_test = test_data['Delay']\n",
    "\n",
    "# Обнаружение и удаление выбросов (используем межквартильный размах на одном месяце)\n",
    "month_data = data[data['Month'] == 1]  # пример для января\n",
    "q1 = month_data['Delay'].quantile(0.25)\n",
    "q3 = month_data['Delay'].quantile(0.75)\n",
    "iqr = q3 - q1\n",
    "lower_bound = q1 - 1.5 * iqr\n",
    "upper_bound = q3 + 1.5 * iqr\n",
    "data = data[(data['Delay'] >= lower_bound) & (data['Delay'] <= upper_bound)]\n",
    "\n",
    "# Обучение моделей машинного обучения\n",
    "models = {\n",
    "    'Linear Regression': LinearRegression(),\n",
    "    'Ridge Regression': Ridge(),\n",
    "    'Random Forest': RandomForestRegressor()\n",
    "}"
   ]
  },
  {
   "cell_type": "code",
   "execution_count": null,
   "id": "23ca610a-64b3-42c4-ac0c-fb4d186e2dfe",
   "metadata": {},
   "outputs": [
    {
     "name": "stdout",
     "output_type": "stream",
     "text": [
      "Linear Regression - Train MSE: 2148.70, Test MSE: 1615.50, Train R2: 0.00, Test R2: -0.01\n",
      "Ridge Regression - Train MSE: 2148.70, Test MSE: 1615.50, Train R2: 0.00, Test R2: -0.01\n"
     ]
    }
   ],
   "source": [
    "# Оценка моделей и сравнение их результатов\n",
    "results = {}\n",
    "for name, model in models.items():\n",
    "    model.fit(X_train, y_train)\n",
    "    y_pred_train = model.predict(X_train)\n",
    "    y_pred_test = model.predict(X_test)\n",
    "    train_mse = mean_squared_error(y_train, y_pred_train)\n",
    "    test_mse = mean_squared_error(y_test, y_pred_test)\n",
    "    train_r2 = r2_score(y_train, y_pred_train)\n",
    "    test_r2 = r2_score(y_test, y_pred_test)\n",
    "    results[name] = {\n",
    "        'Train MSE': train_mse,\n",
    "        'Test MSE': test_mse,\n",
    "        'Train R2': train_r2,\n",
    "        'Test R2': test_r2\n",
    "    }\n",
    "    print(f\"{name} - Train MSE: {train_mse:.2f}, Test MSE: {test_mse:.2f}, Train R2: {train_r2:.2f}, Test R2: {test_r2:.2f}\")\n",
    "\n",
    "# Сравнение моделей\n",
    "results_df = pd.DataFrame(results).T\n",
    "print(results_df)"
   ]
  },
  {
   "cell_type": "code",
   "execution_count": null,
   "id": "c29f2335-e357-4713-bc87-690ab975f58d",
   "metadata": {},
   "outputs": [],
   "source": [
    "# Визуализация результатов\n",
    "plt.figure(figsize=(10, 5))\n",
    "sns.barplot(data=results_df.reset_index(), x='index', y='Test R2', palette='viridis')\n",
    "plt.title('Comparison of Model Test R2 Scores')\n",
    "plt.xlabel('Model')\n",
    "plt.ylabel('Test R2 Score')\n",
    "plt.show()"
   ]
  },
  {
   "cell_type": "code",
   "execution_count": null,
   "id": "76aaa235-b962-4d35-9c7b-91e41a84be7f",
   "metadata": {},
   "outputs": [],
   "source": []
  }
 ],
 "metadata": {
  "kernelspec": {
   "display_name": "Python 3 (ipykernel)",
   "language": "python",
   "name": "python3"
  },
  "language_info": {
   "codemirror_mode": {
    "name": "ipython",
    "version": 3
   },
   "file_extension": ".py",
   "mimetype": "text/x-python",
   "name": "python",
   "nbconvert_exporter": "python",
   "pygments_lexer": "ipython3",
   "version": "3.12.6"
  }
 },
 "nbformat": 4,
 "nbformat_minor": 5
}
